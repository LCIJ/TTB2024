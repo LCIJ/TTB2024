{
 "cells": [
  {
   "cell_type": "code",
   "execution_count": null,
   "metadata": {},
   "outputs": [],
   "source": [
    "## ############################################################################################################################################################################\n",
    "## CODE      : DELORAN: ORBIT CALCULATOR\n",
    "## AUTHOR    : MATIAS BLAÑA D.(main dev.), ROY BUSTOS (dev. Setup Malin1-extragalactic)\n",
    "## LOCATION  : CHILE, SANTIAGO NOVEMBER 2023\n",
    "## VERSION   : (v1.1) ORBIT CALCULATOR FOR MW DWARF SATELLITES INCLUDING MW MULTIPLE POTENTIALS and M31, AND Fornax Cluster potentials, WITH ORBITS WITH COSMIC EXPANSION OPTIONS\n",
    "## SCRIPT    : EXAMPLES OF WORKSCRIPTS FOR USERS THAT LOADS STORED INITIAL CONDITIONS, INTEGRATIONS ROUTINES, DEFINE OBSERVABLES, ETC\n",
    "## REFERENCES: PLEASE CITE THE ARTICLE WHERE DELOREAN WAS ORIGINALY PUBLISHED: Blaña et al. 2020, MNRAS, 497,3601-3622\n",
    "## URL       : https://ui.adsabs.harvard.edu/abs/2020MNRAS.497.3601B/abstract\n",
    "## ############################################################################################################################################################################"
   ]
  },
  {
   "cell_type": "code",
   "execution_count": null,
   "metadata": {},
   "outputs": [],
   "source": [
    "import sys\n",
    "import numpy as np\n",
    "sys.path.append('Code')\n",
    "from DELOREAN_v1 import *"
   ]
  },
  {
   "cell_type": "markdown",
   "metadata": {},
   "source": [
    "### Loading data if necessary"
   ]
  },
  {
   "cell_type": "code",
   "execution_count": null,
   "metadata": {},
   "outputs": [],
   "source": [
    "## LOADING OR DEFINE YOUR INITIAL CONDITIONS (SATELLITES, GC, ETC)\n",
    "## Reading data as Class object\n",
    "# fnameIC='Data/Data_IC/satellites_IC_v4.pkl'\n",
    "# with open(fnameIC, 'rb') as input:\n",
    "#     LeoT  = pickle.load(input, encoding='latin1')"
   ]
  },
  {
   "cell_type": "markdown",
   "metadata": {},
   "source": [
    "### (Re)Define your own functions"
   ]
  },
  {
   "cell_type": "code",
   "execution_count": null,
   "metadata": {},
   "outputs": [],
   "source": [
    "#"
   ]
  },
  {
   "cell_type": "markdown",
   "metadata": {},
   "source": [
    "### Start My orbit calculations"
   ]
  },
  {
   "cell_type": "code",
   "execution_count": null,
   "metadata": {},
   "outputs": [],
   "source": []
  },
  {
   "cell_type": "code",
   "execution_count": null,
   "metadata": {},
   "outputs": [],
   "source": []
  },
  {
   "cell_type": "code",
   "execution_count": null,
   "metadata": {},
   "outputs": [],
   "source": []
  }
 ],
 "metadata": {
  "kernelspec": {
   "display_name": "Python 3 (ipykernel)",
   "language": "python",
   "name": "python3"
  },
  "language_info": {
   "codemirror_mode": {
    "name": "ipython",
    "version": 3
   },
   "file_extension": ".py",
   "mimetype": "text/x-python",
   "name": "python",
   "nbconvert_exporter": "python",
   "pygments_lexer": "ipython3",
   "version": "3.11.5"
  }
 },
 "nbformat": 4,
 "nbformat_minor": 4
}
