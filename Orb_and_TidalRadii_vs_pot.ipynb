{
 "cells": [
  {
   "cell_type": "code",
   "execution_count": 1,
   "id": "396cc4bb-39b9-41a2-a88d-15e02bb1d8f3",
   "metadata": {},
   "outputs": [],
   "source": [
    "\"\"\"CODE: DELORIAN: ORBIT CALCULATOR.\n",
    "\n",
    "AUTHOR: MATIAS BLAÑA D.(main dev.), ROY BUSTOS (dev. Setup\n",
    "        Malin1-extragalactic).\n",
    "\n",
    "LOCATION: CHILE, SANTIAGO NOVEMBER 2023.\n",
    "\n",
    "VERSION: (v1.1) ORBIT CALCULATOR FOR MW DWARF SATELLITES INCLUDING MW MULTIPLE\n",
    "         POTENTIALS and M31, AND Fornax Cluster potentials, WITH ORBITS WITH\n",
    "         COSMIC EXPANSION OPTIONS.\n",
    "\n",
    "SCRIPT: EXAMPLES OF WORKSCRIPTS FOR USERS THAT LOADS STORED INITIAL CONDITIONS,\n",
    "        INTEGRATIONS ROUTINES, DEFINE OBSERVABLES, ETC.\n",
    "\n",
    "REFERENCES: PLEASE CITE THE ARTICLE WHERE DELOREAN WAS ORIGINALY PUBLISHED:\n",
    "            Blaña et al. 2020, MNRAS, 497,3601-3622\n",
    "\n",
    "URL: https://ui.adsabs.harvard.edu/abs/2020MNRAS.497.3601B/abstract\n",
    "\"\"\"\n"
   ]
  },
  {
   "cell_type": "code",
   "execution_count": null,
   "id": "4e5a9033-661a-4905-9c11-907efdfdbb35",
   "metadata": {},
   "outputs": [],
   "source": []
  }
 ],
 "metadata": {
  "kernelspec": {
   "display_name": "Python 3 (ipykernel)",
   "language": "python",
   "name": "python3"
  },
  "language_info": {
   "codemirror_mode": {
    "name": "ipython",
    "version": 3
   },
   "file_extension": ".py",
   "mimetype": "text/x-python",
   "name": "python",
   "nbconvert_exporter": "python",
   "pygments_lexer": "ipython3",
   "version": "3.9.7"
  }
 },
 "nbformat": 4,
 "nbformat_minor": 5
}
