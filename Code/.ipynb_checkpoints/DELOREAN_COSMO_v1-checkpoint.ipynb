{
 "cells": [
  {
   "cell_type": "code",
   "execution_count": 7,
   "metadata": {},
   "outputs": [],
   "source": [
    "## ######################################################################################################################################\n",
    "## CODE: ORBIT CALCULATOR DELOREAN (v1)\n",
    "## AUTHOR: MATIAS A. BLANA D.\n",
    "## CHILE, SANTIAGO JULY 2023\n",
    "## VERSION : MW DWARF SATELLITES INCLUDING MW MULTIPLE POTENTIALS and M31, AND Fornax Cluster potentials, WITH ORBITS WITH COSMIC EXPANSION OPTIONS\n",
    "## SCRIPT  : FUNCTIONS TO CALCULATE TABLES FOR ORBIT CALCULATIONS, SUCH AS MASSHALO(REDSHIFT), AND INTEGRALS OF SCALING FACTOR THERMS FOR ORBIT INTEGRATION WITH COSMIC EXPANSION\n",
    "## #######################################################################################################################################"
   ]
  },
  {
   "cell_type": "code",
   "execution_count": null,
   "metadata": {},
   "outputs": [],
   "source": [
    "# from matplotlib import rc\n",
    "# rc('text', usetex=True)\n",
    "# import import_ipynb\n",
    "import h5py\n",
    "import commah\n",
    "import numpy as np\n",
    "import matplotlib.pyplot as plt\n",
    "from astropy import units as u\n",
    "import astropy.coordinates as coord\n",
    "from scipy.interpolate import interp1d\n",
    "from astropy.cosmology import Planck15, z_at_value\n",
    "from IPython.core.display import display, HTML\n",
    "display(HTML(\"<style>.container { width:90% !important; }</style>\"))"
   ]
  },
  {
   "cell_type": "code",
   "execution_count": 10,
   "metadata": {},
   "outputs": [],
   "source": [
    "def looktime2z(lookbacktime_in):\n",
    "    from astropy.cosmology import Planck15, z_at_value\n",
    "    zredshift_out = np.zeros((len(lookbacktime_in),))\n",
    "    for i in range(0,len(lookbacktime_in)): zredshift_out[i]= z_at_value(Planck15.lookback_time, (lookbacktime_in[i]))\n",
    "    return zredshift_out\n",
    "\n",
    "def looktime2zEq(lookbacktime_in):\n",
    "    # VALID ONLY FOR HIGH REDSHIFT z>2 !!\n",
    "    from astropy.cosmology import Planck15, z_at_value\n",
    "    AgeU = Planck15.age(0).to(u.Myr)\n",
    "    H0_15, Om0_15 = ((67.7* (1.*u.km).to(u.Mpc)) / u.Mpc/ (1.*u.s)).to(1./u.Myr), 0.307\n",
    "    zredshift_out = np.zeros((len(lookbacktime_in),))\n",
    "    zredshift_out = (2./(3.*H0_15*Om0_15**0.5*(AgeU-lookbacktime_in)))**(2./3.)-1\n",
    "    return zredshift_out\n"
   ]
  },
  {
   "cell_type": "code",
   "execution_count": null,
   "metadata": {},
   "outputs": [],
   "source": [
    "def looktime2z(lookbacktime_in):\n",
    "    from astropy.cosmology import Planck15, z_at_value\n",
    "    zredshift_out = np.zeros((len(lookbacktime_in),))\n",
    "    for i in range(0,len(lookbacktime_in)): zredshift_out[i]= z_at_value(Planck15.lookback_time, (lookbacktime_in[i]))\n",
    "    return zredshift_out\n",
    "\n",
    "def looktime2zEq(lookbacktime_in):\n",
    "    # VALID ONLY FOR HIGH REDSHIFT z>2 !!\n",
    "    from astropy.cosmology import Planck15, z_at_value\n",
    "    AgeU = Planck15.age(0).to(u.Myr)\n",
    "    H0_15, Om0_15 = ((67.7* (1.*u.km).to(u.Mpc)) / u.Mpc/ (1.*u.s)).to(1./u.Myr), 0.307\n",
    "    zredshift_out = np.zeros((len(lookbacktime_in),))\n",
    "    zredshift_out = (2./(3.*H0_15*Om0_15**0.5*(AgeU-lookbacktime_in)))**(2./3.)-1\n",
    "    return zredshift_out\n",
    "\n",
    "def dK(ti):\n",
    "    ai = f_a_t(ti)    \n",
    "    f=1./ai\n",
    "    return f\n",
    "\n",
    "def dKp2(ti):\n",
    "    ai = f_a_t(ti)\n",
    "    f  = 4.*np.pi*G4/3.*(f_denDMbar_t(ti)-2.*den_DE)*ai**2\n",
    "    return f\n",
    "\n",
    "def dD(ti):\n",
    "    ai = f_a_t(ti)\n",
    "    f  = 1./ai**2\n",
    "    return f\n",
    "\n",
    "def dHdt(tin):  #H=da/dt /a\n",
    "    ti  = np.zeros((len(tin)+1))\n",
    "    dti = tin[1]-tin[0]\n",
    "    ti[:-1]= tin[:]\n",
    "    ti[-1] = tin[-1]+dti\n",
    "    H = f_H_t(ti)\n",
    "    a = f_a_t(ti)\n",
    "    dadt= a*H\n",
    "    datt = dadt[:]\n",
    "    return datt\n",
    "\n",
    "import scipy.integrate as integrate\n",
    "\n",
    "def intfa(tin,direc):\n",
    "    ti  = np.zeros((len(tin)+1))\n",
    "    dti = tin[1]-tin[0]\n",
    "    ti[:-1]= tin[:]\n",
    "    ti[-1] = tin[-1]+dti\n",
    "    if direc=='pos':\n",
    "        ti = ti[::-1]\n",
    "        tin= tin[::-1]\n",
    "    print ti\n",
    "    nst = len(ti)\n",
    "    Kt,Dt  = np.zeros((nst-1)),np.zeros((nst-1))\n",
    "    for i in range(0, nst-1):\n",
    "        if direc=='neg':\n",
    "            Kt[i] = integrate.quad(dK, ti[i], ti[i+1])[0]\n",
    "            Dt[i] = integrate.quad(dD, ti[i], ti[i+1])[0]\n",
    "        elif direc=='pos':\n",
    "            Kt[i] = integrate.quad(dK, ti[i], ti[i+1])[0]\n",
    "            Dt[i] = integrate.quad(dD, ti[i], ti[i+1])[0]\n",
    "    return Kt,Dt,tin\n",
    "\n",
    "def intKp2(tin,direc):\n",
    "    ti  = np.zeros((len(tin)+1))\n",
    "    dti = tin[1]-tin[0]\n",
    "    ti[:-1]= tin[:]\n",
    "    ti[-1] = tin[-1]+dti\n",
    "    if direc=='pos':\n",
    "        ti = ti[::-1]\n",
    "        tin= tin[::-1]\n",
    "    print ti\n",
    "    nst = len(ti)\n",
    "    Kt  = np.zeros((nst-1))\n",
    "    for i in range(0, nst-1):\n",
    "        if direc=='neg':\n",
    "            Kt[i] = integrate.quad(dKp2, ti[i], ti[i+1])[0]\n",
    "        elif direc=='pos':\n",
    "            Kt[i] = integrate.quad(dKp2, ti[i], ti[i+1])[0]\n",
    "    return Kt,tin\n",
    "                   \n",
    "\n",
    "# computecosmoKD = True\n",
    "computecosmoKD = False\n",
    "\n",
    "if computecosmoKD:\n",
    "    header =\"D,K for dt=-0.05Myr\"\n",
    "    t_dt0pt05Myr       = np.arange(0.,-13000.+0.05,-0.05)\n",
    "    intK_dt0pt05Myr,intD_dt0pt05Myr,t_dt0pt05Myr = intfa(t_dt0pt05Myr,'neg')\n",
    "    fdatcos     = \"Data/Data_Cosmo/\"\n",
    "    hf          = h5py.File(fdatcos+\"data_DK_dt0.05Myr_v1.h5\", 'w')\n",
    "    hf.create_dataset('header',data=header)\n",
    "    hf.create_dataset('intK',data=intK_dt0pt05Myr)\n",
    "    hf.create_dataset('intD',data=intD_dt0pt05Myr)\n",
    "    hf.create_dataset('t_DK',data=t_dt0pt05Myr)\n",
    "    hf.close()\n",
    "    print \"Now dt==0.1Myr\"\n",
    "    header =\"D,K for dt=-0.1Myr\"\n",
    "    t_dt0pt1Myr       = np.arange(0.,-13000.+0.1,-0.1)\n",
    "    intK_dt0pt1Myr,intD_dt0pt1Myr,t_dt0pt1Myr = intfa(t_dt0pt1Myr,'neg')\n",
    "    fdatcos     = \"Data/Data_Cosmo/\"\n",
    "    hf          = h5py.File(fdatcos+\"data_DK_dt0.1Myr_v1.h5\", 'w')\n",
    "    hf.create_dataset('header',data=header)\n",
    "    hf.create_dataset('intK',data=intK_dt0pt1Myr)\n",
    "    hf.create_dataset('intD',data=intD_dt0pt1Myr)\n",
    "    hf.create_dataset('t_DK',data=t_dt0pt1Myr)\n",
    "    hf.close()\n",
    "    \n",
    "    header =\"D,K for dt=-1.0Myr\"\n",
    "    t_dt1Myr       = np.arange(0.,-13000.+1.0,-1.0)\n",
    "    intK_dt1Myr,intD_dt1Myr,t_dt1Myr = intfa(t_dt1Myr,'neg')\n",
    "    fdatcos     = \"Data/Data_Cosmo/\"\n",
    "    hf          = h5py.File(fdatcos+\"data_DK_dt1.0Myr_v1.h5\", 'w')\n",
    "    hf.create_dataset('header',data=header)\n",
    "    hf.create_dataset('intK',data=intK_dt1Myr)\n",
    "    hf.create_dataset('intD',data=intD_dt1Myr)\n",
    "    hf.create_dataset('t_DK',data=t_dt1Myr)\n",
    "    hf.close()\n",
    "    print \"Now dt=-0.5Myr\"\n",
    "    header =\"D,K for dt=-0.5Myr\"\n",
    "    t_dt0pt5Myr       = np.arange(0.,-13000.+0.5,-0.5)\n",
    "    intK_dt0pt5Myr,intD_dt0pt5Myr,t_dt0pt5Myr = intfa(t_dt0pt5Myr,'neg')\n",
    "    fdatcos     = \"Data/Data_Cosmo/\"\n",
    "    hf          = h5py.File(fdatcos+\"data_DK_dt0.5Myr_v1.h5\", 'w')\n",
    "    hf.create_dataset('intK',data=intK_dt0pt5Myr)\n",
    "    hf.create_dataset('intD',data=intD_dt0pt5Myr)\n",
    "    hf.create_dataset('t_DK',data=t_dt0pt5Myr)\n",
    "    hf.close()\n",
    "    \n",
    "    print \"Now dt==0.05Myr\"\n",
    "    header =\"Kp2 for dt=-0.05Myr\"\n",
    "    t_dt0pt05Myr       = np.arange(0.,-13000.+0.05,-0.05)\n",
    "    intKp2_dt0pt05Myr,t_dt0pt05Myr = intKp2(t_dt0pt05Myr,'neg')\n",
    "    fdatcos     = \"Data/Data_Cosmo/\"\n",
    "    hf          = h5py.File(fdatcos+\"data_Kp2_dt0.05Myr_v1.h5\", 'w')\n",
    "    hf.create_dataset('header',data=header)\n",
    "    hf.create_dataset('intKp2',data=intKp2_dt0pt05Myr)\n",
    "    hf.create_dataset('t_Kp2',data=t_dt0pt05Myr)\n",
    "    hf.close()\n",
    "    \n",
    "    print \"Now dt==0.1Myr\"\n",
    "    header =\"Kp2 for dt=-0.1Myr\"\n",
    "    t_dt0pt1Myr       = np.arange(0.,-13000.+0.1,-0.1)\n",
    "    intKp2_dt0pt1Myr,t_dt0pt1Myr = intKp2(t_dt0pt1Myr,'neg')\n",
    "    fdatcos     = \"Data/Data_Cosmo/\"\n",
    "    hf          = h5py.File(fdatcos+\"data_Kp2_dt0.1Myr_v1.h5\", 'w')\n",
    "    hf.create_dataset('header',data=header)\n",
    "    hf.create_dataset('intKp2',data=intKp2_dt0pt1Myr)\n",
    "    hf.create_dataset('t_Kp2',data=t_dt0pt1Myr)\n",
    "    hf.close()\n",
    "    \n",
    "    print \"Now dt=-1.0Myr\"\n",
    "    header =\"Kp2 for dt=-1.0Myr\"\n",
    "    t_dt1Myr       = np.arange(0.,-13000.+1.0,-1.0)\n",
    "    intKp2_dt1Myr,t_dt1Myr = intKp2(t_dt1Myr,'neg')\n",
    "    fdatcos     = \"Data/Data_Cosmo/\"\n",
    "    hf          = h5py.File(fdatcos+\"data_Kp2_dt1.0Myr_v1.h5\", 'w')\n",
    "    hf.create_dataset('header',data=header)\n",
    "    hf.create_dataset('intKp2',data=intKp2_dt1Myr)\n",
    "    hf.create_dataset('t_Kp2',data=t_dt1Myr)\n",
    "    hf.close()\n",
    "    \n",
    "    print \"Now dt=-0.5Myr\"\n",
    "    header =\"Kp2 for dt=-0.5Myr\"\n",
    "    t_dt0pt5Myr       = np.arange(0.,-13000.+0.5,-0.5)\n",
    "    intKp2_dt0pt5Myr,t_dt0pt5Myr = intKp2(t_dt0pt5Myr,'neg')\n",
    "    fdatcos     = \"Data/Data_Cosmo/\"\n",
    "    hf          = h5py.File(fdatcos+\"data_Kp2_dt0.5Myr_v1.h5\", 'w')\n",
    "    hf.create_dataset('intKp2',data=intKp2_dt0pt5Myr)\n",
    "    hf.create_dataset('t_Kp2',data=t_dt0pt5Myr)\n",
    "    hf.close()\n",
    "    print int1,int2\n",
    "    plt.plot(time_intf_out,intf1a_out,\"-b\")\n",
    "    plt.plot(time_intf_out,intf2a_out,\"-r\")\n",
    "    plt.plot(tdt05,intf1dt05,\"--b\")\n",
    "    plt.plot(tdt05,intf2dt05,\"--r\")\n",
    "    plt.plot(tdt2,intf1,\"-.b\")\n",
    "    plt.plot(tdt2,intf2,\"-.r\")\n",
    "    plt.show()\n",
    "    "
   ]
  },
  {
   "cell_type": "code",
   "execution_count": 12,
   "metadata": {},
   "outputs": [
    {
     "name": "stdout",
     "output_type": "stream",
     "text": [
      "zredshift= [3.52932333e-08 6.89359704e-06 1.38205587e-05 ... 6.76166971e+00\n",
      " 6.76231825e+00 6.76296690e+00]\n"
     ]
    }
   ],
   "source": [
    "## TEST\n",
    "time = np.arange(5.E-4,-13000-0.1,-0.1)\n",
    "zredshift = looktime2z(abs(time)*u.Myr)\n",
    "print(\"zredshift=\",zredshift)"
   ]
  },
  {
   "cell_type": "code",
   "execution_count": 13,
   "metadata": {},
   "outputs": [
    {
     "name": "stdout",
     "output_type": "stream",
     "text": [
      "rvir0a= [1063.29160735]\n",
      "rvir0= [1087.00599019]\n",
      "Rvir= 978\n",
      "c= [5.78330723]\n"
     ]
    },
    {
     "name": "stderr",
     "output_type": "stream",
     "text": [
      "/Users/matiasblana/anaconda3/lib/python3.7/site-packages/numpy/lib/function_base.py:2192: RuntimeWarning: overflow encountered in ? (vectorized)\n",
      "  outputs = ufunc(*inputs)\n"
     ]
    }
   ],
   "source": [
    "# M0           = np.array([1.3e12])\n",
    "# M0           = np.array([1.6e12])\n",
    "# M0           = np.array([1.0e12])\n",
    "\n",
    "# M0           = np.array([1.0e14 ]) #1e14Msun (Drinkwater et al. 2001):\n",
    "M0           = np.array([7.0e13]) #1e14Msun (Drinkwater et al. 2001):\n",
    "\n",
    "redshift0    = np.array([0.])\n",
    "rvir0a        = 258.*(340.*0.3/102)**(-1./3)*(M0/1.E12)**(1./3) #978 kpc \n",
    "rvir0        = Rvirf(M0,redshift0)\n",
    "c0           = np.array(commah.run('WMAP9',zi=0.,Mi=M0,z=0.)['c'][:,0])\n",
    "# c0           = np.array(commah.run('WMAP1',zi=0.,Mi=M0,z=0.)['c'][:,0])\n",
    "# c0           = np.array(commah.run('Planck',zi=0.,Mi=M0,z=0.)['c'][:,0])\n",
    "print(\"rvir0a=\",rvir0a)\n",
    "print(\"rvir0=\",rvir0)\n",
    "print(\"Rvir=\",978)\n",
    "print(\"c=\",c0)\n",
    "\n",
    "# c0           = np.array(commah.run('WMAP9',zi=0.,Mi=M0,z=0.)['c'][:,0])\n",
    "# print(\"c=\",c0)"
   ]
  },
  {
   "cell_type": "code",
   "execution_count": 14,
   "metadata": {},
   "outputs": [],
   "source": [
    "# cosmohalo13Gyr_Mvir13E9Ms = commah.run('WMAP1',zi=0.,Mi=M0.value,z=zredshift)\n",
    "# cosmohalo13Gyr  = cosmohalo13Gyr_Mvir13E9Ms.copy()\n",
    "\n",
    "# cosmohalo13Gyr_Mvir16E9Ms = commah.run('WMAP1',zi=0.,Mi=M0,z=zredshift)\n",
    "# cosmohalo13Gyr  = cosmohalo13Gyr_Mvir16E9Ms.copy()\n",
    "\n",
    "# cosmohalo13Gyr_Mvir10E9Ms = commah.run('WMAP1',zi=0.,Mi=M0,z=zredshift)\n",
    "# cosmohalo13Gyr  = cosmohalo13Gyr_Mvir10E9Ms.copy()\n",
    "\n",
    "cosmohalo13Gyr_Mvir7E13Ms = commah.run('WMAP9',zi=0.,Mi=M0,z=zredshift)\n",
    "cosmohalo13Gyr  = cosmohalo13Gyr_Mvir7E13Ms.copy()\n"
   ]
  },
  {
   "cell_type": "code",
   "execution_count": 15,
   "metadata": {},
   "outputs": [],
   "source": [
    "Mz_cos_in    = np.array(cosmohalo13Gyr['Mz']).T[:,0]\n",
    "concen_cos_in= np.array(cosmohalo13Gyr['c']).T[:,0]\n",
    "# rvir_out_in  = 258.*(340.*0.3/102)**(-1./3)*(Mz_cos_in/1.E12)**(1./3)\n",
    "redshift_in  = zredshift\n",
    "rvir_out_in  = Rvirf(Mz_cos_in,redshift_in)\n"
   ]
  },
  {
   "cell_type": "code",
   "execution_count": 16,
   "metadata": {},
   "outputs": [],
   "source": [
    "# M0           = np.array([1.3e12])\n",
    "# redshift0    = np.array([0.])\n",
    "# rvir0        = 258.*(340.*0.3/102)**(-1./3)*(M0/1.E12)**(1./3)\n",
    "# c0           = np.array(commah.run('WMAP1',zi=0.,Mi=M0.value,z=0.)['c'][:,0])"
   ]
  },
  {
   "cell_type": "code",
   "execution_count": 17,
   "metadata": {},
   "outputs": [
    {
     "name": "stdout",
     "output_type": "stream",
     "text": [
      "[7.e+13]\n",
      "[0.]\n",
      "[1087.00599019]\n",
      "[5.78330723]\n"
     ]
    }
   ],
   "source": [
    "print(M0)\n",
    "print(redshift0)\n",
    "print(rvir0)\n",
    "print(c0)"
   ]
  },
  {
   "cell_type": "code",
   "execution_count": 18,
   "metadata": {},
   "outputs": [],
   "source": [
    "Mvir_save    = np.hstack((M0,Mz_cos_in))\n",
    "Rvir_save    = np.hstack((rvir0,rvir_out_in))\n",
    "conc_save    = np.hstack((c0,concen_cos_in))\n",
    "time_save    = np.hstack((0.,time))\n",
    "redshift_save= np.hstack((0.,redshift_in))"
   ]
  },
  {
   "cell_type": "code",
   "execution_count": 19,
   "metadata": {},
   "outputs": [
    {
     "name": "stdout",
     "output_type": "stream",
     "text": [
      "[7.00000000e+13 6.99999982e+13 6.99996403e+13 ... 7.75057047e+10\n",
      " 7.74518476e+10 7.73980183e+10]\n",
      "[1087.00599019 1087.00599631 1087.00718642 ...  138.26865775  138.23664891\n",
      "  138.20464183]\n",
      "[5.78330723 5.78330719 5.78330013 ... 3.185995   3.18595153 3.18590807]\n",
      "[ 0.00000000e+00  5.00000000e-04 -9.95000000e-02 ... -1.29998995e+04\n",
      " -1.29999995e+04 -1.30000995e+04]\n",
      "[0.00000000e+00 3.52932333e-08 6.89359704e-06 ... 6.76166971e+00\n",
      " 6.76231825e+00 6.76296690e+00]\n"
     ]
    }
   ],
   "source": [
    "print(Mvir_save)\n",
    "print(Rvir_save)\n",
    "print(conc_save)\n",
    "print(time_save)\n",
    "print(redshift_save)"
   ]
  },
  {
   "cell_type": "code",
   "execution_count": 20,
   "metadata": {},
   "outputs": [],
   "source": [
    "# hf = h5py.File('datacosmo13Gyr16e9Ms.h5', 'w')\n",
    "# hf = h5py.File('datacosmo13Gyr10E9Ms.h5', 'w')\n",
    "hf = h5py.File('cosmohalo13Gyr_Mvir7E13Ms.h5', 'w')\n",
    "# hf = h5py.File('datacosmo13Gyr.h5', 'w')\n",
    "hf.create_dataset('Mz',  data=Mvir_save)\n",
    "hf.create_dataset('Rvir',data=Rvir_save)\n",
    "hf.create_dataset('c',   data=conc_save)\n",
    "hf.create_dataset('time',data=time_save)\n",
    "hf.create_dataset('redshift', data=redshift_save)\n",
    "hf.close()"
   ]
  },
  {
   "cell_type": "code",
   "execution_count": 21,
   "metadata": {},
   "outputs": [],
   "source": [
    "# hfr          = h5py.File('datacosmo13Gyr.h5', 'r')\n",
    "# hfr          = h5py.File('datacosmo13Gyr16e9Ms.h5', 'r')\n",
    "# hfr          = h5py.File('datacosmo13Gyr10E9Ms.h5', 'r')\n",
    "hfr          = h5py.File('cosmohalo13Gyr_Mvir7E13Ms.h5', 'r')\n",
    "redshift_out = np.array(hfr.get('redshift'))\n",
    "time_out     = np.array(hfr.get('time'))\n",
    "Mvir_out     = np.array(hfr.get('Mz'))\n",
    "Rvir_out     = np.array(hfr.get('Rvir'))\n",
    "c_out        = np.array(hfr.get('c'))\n",
    "hfr.close()"
   ]
  },
  {
   "cell_type": "code",
   "execution_count": 22,
   "metadata": {},
   "outputs": [],
   "source": [
    "# Rvir_out_old = Rvir_out.copy()"
   ]
  },
  {
   "cell_type": "code",
   "execution_count": 23,
   "metadata": {},
   "outputs": [],
   "source": [
    "f_Mvir_t     = interp1d(time_out, Mvir_out, kind='cubic')\n",
    "f_c_t        = interp1d(time_out, c_out, kind='cubic')\n",
    "f_redshift_t = interp1d(time_out, redshift_out, kind='cubic')"
   ]
  },
  {
   "cell_type": "code",
   "execution_count": 24,
   "metadata": {},
   "outputs": [
    {
     "name": "stdout",
     "output_type": "stream",
     "text": [
      "z= [0.         0.0730077  0.15453684 0.24654301 0.35172739 0.4739183\n",
      " 0.61873714 0.79480753 1.01611766 1.30709269 1.71497061 2.34611201\n",
      " 3.5094332  6.76166971]\n",
      "\n",
      "time= [     0.       -999.8995  -1999.8995  -2999.8995  -3999.8995  -4999.8995\n",
      "  -5999.8995  -6999.8995  -7999.8995  -8999.8995  -9999.8995 -10999.8995\n",
      " -11999.8995 -12999.8995]\n"
     ]
    }
   ],
   "source": [
    "print(\"z=\", redshift_out[::10000])\n",
    "print(\"\")\n",
    "print(\"time=\", time_out[::10000])"
   ]
  },
  {
   "cell_type": "code",
   "execution_count": 26,
   "metadata": {},
   "outputs": [
    {
     "data": {
      "image/png": "[encoded data removed]",
      "text/plain": [
       "<Figure size 576x576 with 4 Axes>"
      ]
     },
     "metadata": {
      "needs_background": "light"
     },
     "output_type": "display_data"
    }
   ],
   "source": [
    "fig, ax = plt.subplots(3, 1, sharex=True,figsize=(8,8))\n",
    "fig.subplots_adjust(hspace=0)\n",
    "time_out_axis = np.arange(0,-14000,-2000,)\n",
    "redshift_out_axis = f_redshift_t(time_out_axis)\n",
    "stp = 100\n",
    "ax[0].plot(time_out[::stp], Mvir_out[::stp],\"k\",linewidth=4)\n",
    "ax[0].xaxis.set_ticks(time_out_axis) #set the ticks to be a\n",
    "ax[1].plot(time_out[::stp], Rvir_out[::stp],\"k\",linewidth=4)\n",
    "ax[2].plot(time_out[::stp], c_out[::stp],\"k\",linewidth=4)\n",
    "\n",
    "axb = ax[0].twiny()\n",
    "axb.tick_params(axis='x', labelsize=16, length=18, width=2.2, which='major', direction='in')\n",
    "axb.tick_params(axis='x', labelsize=16, length=10, width=1.7, which='minor', direction='in')\n",
    "axb.xaxis.set_ticks(time_out_axis) #set the ticks to be a\n",
    "axb.xaxis.set_ticklabels(['%.1f'%u for u in redshift_out_axis], rotation=45) # change the ticks' names to x\n",
    "\n",
    "axb.set_xlabel(r\"${\\rm Redshift}$\",size=18)\n",
    "ax[0].set_yscale('log')\n",
    "ax[2].set_xlabel(r\"$time\\,{\\rm [Myr]}$\",size=18)\n",
    "ax[0].set_ylabel(r\"$M_{\\rm vir}\\,[{\\rm M_{\\odot}}]$\",size=18)\n",
    "ax[1].set_ylabel(r\"$R_{\\rm vir}\\,[{\\rm kpc}]$\",size=18)\n",
    "ax[2].set_ylabel(r\"$c$\",size=20)\n",
    "\n",
    "ax[0].tick_params(axis='x', labelsize=18, length=14, width=1.5, which='major', direction='in')\n",
    "ax[0].tick_params(axis='y', labelsize=18, length=14, width=1.5, which='major', direction='in',right='True')\n",
    "ax[0].tick_params(axis='x', labelsize=15, length=9, width=1, which='minor', direction='in')\n",
    "ax[0].tick_params(axis='y', labelsize=15, length=9, width=1, which='minor', direction='in',right='True')\n",
    "\n",
    "ax[1].tick_params(axis='x', labelsize=18, length=14, width=1.5, which='major', direction='in')\n",
    "ax[1].tick_params(axis='y', labelsize=18, length=14, width=1.5, which='major', direction='in',right='True')\n",
    "ax[1].tick_params(axis='x', labelsize=15, length=9, width=1, which='minor', direction='in')\n",
    "ax[1].tick_params(axis='y', labelsize=15, length=9, width=1, which='minor', direction='in',right='True')\n",
    "\n",
    "ax[2].tick_params(axis='x', labelsize=18, length=14, width=1.5, which='major', direction='in')\n",
    "ax[2].tick_params(axis='y', labelsize=18, length=14, width=1.5, which='major', direction='in',right='True')\n",
    "ax[2].tick_params(axis='x', labelsize=15, length=9, width=1, which='minor', direction='in')\n",
    "ax[2].tick_params(axis='y', labelsize=15, length=9, width=1, which='minor', direction='in',right='True')\n",
    "\n",
    "ax[2].set_xlim((min(time_out[::stp]),max(time_out[::stp])))\n",
    "\n",
    "plt.show()"
   ]
  },
  {
   "cell_type": "code",
   "execution_count": null,
   "metadata": {},
   "outputs": [],
   "source": []
  }
 ],
 "metadata": {
  "kernelspec": {
   "display_name": "Python 3",
   "language": "python",
   "name": "python3"
  },
  "language_info": {
   "codemirror_mode": {
    "name": "ipython",
    "version": 3
   },
   "file_extension": ".py",
   "mimetype": "text/x-python",
   "name": "python",
   "nbconvert_exporter": "python",
   "pygments_lexer": "ipython3",
   "version": "3.7.9"
  }
 },
 "nbformat": 4,
 "nbformat_minor": 4
}
